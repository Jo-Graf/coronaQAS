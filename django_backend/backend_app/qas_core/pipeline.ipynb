{
 "cells": [
  {
   "cell_type": "code",
   "execution_count": 31,
   "metadata": {
    "pycharm": {
     "is_executing": false
    }
   },
   "outputs": [],
   "source": [
    "# Import\n",
    "from haystack.database.elasticsearch import ElasticsearchDocumentStore\n",
    "from backend_app.qas_core.got_data_loader import GOTDataLoader\n",
    "from haystack.retriever.sparse import ElasticsearchRetriever\n",
    "from haystack import Finder\n",
    "from haystack.indexing.cleaning import clean_wiki_text\n",
    "from haystack.indexing.utils import convert_files_to_dicts, fetch_archive_from_http\n",
    "from haystack.reader.farm import FARMReader\n",
    "from haystack.reader.transformers import TransformersReader\n",
    "from haystack.utils import print_answers"
   ]
  },
  {
   "cell_type": "code",
   "execution_count": 32,
   "metadata": {
    "pycharm": {
     "is_executing": false,
     "name": "#%%\n"
    }
   },
   "outputs": [
    {
     "name": "stderr",
     "text": [
      "08/23/2020 23:45:42 - INFO - elasticsearch -   PUT http://localhost:9200/document [status:400 request:0.015s]\n"
     ],
     "output_type": "stream"
    }
   ],
   "source": [
    "# Initialize\n",
    "document_store = ElasticsearchDocumentStore(host=\"localhost\", username=\"\", password=\"\", index=\"document\")\n",
    "data_loader = GOTDataLoader()"
   ]
  },
  {
   "cell_type": "code",
   "execution_count": 33,
   "metadata": {
    "pycharm": {
     "is_executing": false,
     "name": "#%% \n"
    }
   },
   "outputs": [],
   "source": [
    "# load data\n",
    "if not data_loader.data_is_loaded():\n",
    "    dicts = data_loader.load_data()\n",
    "    document_store.write_documents(dicts)"
   ]
  },
  {
   "cell_type": "code",
   "execution_count": 34,
   "metadata": {
    "pycharm": {
     "is_executing": false,
     "name": "#%%\n"
    }
   },
   "outputs": [],
   "source": [
    "# initialize retriever\n",
    "retriever = ElasticsearchRetriever(document_store=document_store)"
   ]
  },
  {
   "cell_type": "code",
   "execution_count": 35,
   "metadata": {
    "pycharm": {
     "is_executing": false,
     "name": "#%%\n"
    }
   },
   "outputs": [
    {
     "name": "stderr",
     "text": [
      "08/23/2020 23:45:47 - INFO - farm.utils -   device: cpu n_gpu: 0, distributed training: False, automatic mixed precision training: None\n",
      "08/23/2020 23:45:47 - INFO - farm.infer -   Could not find `deepset/roberta-base-squad2` locally. Try to download from model hub ...\n",
      "08/23/2020 23:45:53 - WARNING - farm.modeling.language_model -   Could not automatically detect from language model name what language it is. \n",
      "\t We guess it's an *ENGLISH* model ... \n",
      "\t If not: Init the language model by supplying the 'language' param.\n",
      "08/23/2020 23:46:00 - WARNING - farm.modeling.prediction_head -   Some unused parameters are passed to the QuestionAnsweringHead. Might not be a problem. Params: {\"loss_ignore_index\": -1}\n",
      "08/23/2020 23:46:03 - INFO - farm.utils -   device: cpu n_gpu: 0, distributed training: False, automatic mixed precision training: None\n",
      "08/23/2020 23:46:03 - INFO - farm.infer -   Got ya 7 parallel workers to do inference ...\n",
      "08/23/2020 23:46:03 - INFO - farm.infer -    0    0    0    0    0    0    0 \n",
      "08/23/2020 23:46:03 - INFO - farm.infer -   /w\\  /w\\  /w\\  /w\\  /w\\  /w\\  /w\\\n",
      "08/23/2020 23:46:04 - INFO - farm.infer -   /'\\  / \\  /'\\  /'\\  / \\  / \\  /'\\\n",
      "08/23/2020 23:46:04 - INFO - farm.infer -               \n"
     ],
     "output_type": "stream"
    }
   ],
   "source": [
    "# initialize reader\n",
    "reader = FARMReader(model_name_or_path=\"deepset/roberta-base-squad2\", use_gpu=False)"
   ]
  },
  {
   "cell_type": "code",
   "execution_count": 36,
   "metadata": {
    "pycharm": {
     "is_executing": false,
     "name": "#%%\n"
    }
   },
   "outputs": [],
   "source": [
    "# initialize finder\n",
    "finder = Finder(reader, retriever)"
   ]
  },
  {
   "cell_type": "code",
   "execution_count": 37,
   "metadata": {
    "pycharm": {
     "is_executing": false,
     "name": "#%%\n"
    }
   },
   "outputs": [
    {
     "name": "stderr",
     "text": [
      "08/23/2020 23:46:04 - INFO - elasticsearch -   POST http://localhost:9200/document/_search [status:200 request:0.076s]\n",
      "08/23/2020 23:46:04 - INFO - haystack.retriever.sparse -   Got 20 candidates from retriever\n",
      "08/23/2020 23:46:04 - INFO - haystack.finder -   Reader is looking for detailed answer in 37788 chars ...\n",
      "Inferencing Samples: 100%|██████████| 1/1 [00:02<00:00,  2.66s/ Batches]\n",
      "Inferencing Samples: 100%|██████████| 1/1 [00:01<00:00,  1.43s/ Batches]\n",
      "Inferencing Samples: 100%|██████████| 1/1 [00:01<00:00,  1.34s/ Batches]\n",
      "Inferencing Samples: 100%|██████████| 1/1 [00:01<00:00,  1.35s/ Batches]\n",
      "Inferencing Samples: 100%|██████████| 1/1 [00:01<00:00,  1.49s/ Batches]\n",
      "Inferencing Samples: 100%|██████████| 1/1 [00:01<00:00,  1.27s/ Batches]\n",
      "Inferencing Samples: 100%|██████████| 1/1 [00:01<00:00,  1.25s/ Batches]\n",
      "Inferencing Samples: 100%|██████████| 1/1 [00:01<00:00,  1.39s/ Batches]\n",
      "Inferencing Samples: 100%|██████████| 1/1 [00:01<00:00,  1.31s/ Batches]\n",
      "Inferencing Samples: 100%|██████████| 1/1 [00:01<00:00,  1.33s/ Batches]\n",
      "Inferencing Samples: 100%|██████████| 1/1 [00:01<00:00,  1.31s/ Batches]\n",
      "Inferencing Samples: 100%|██████████| 1/1 [00:00<00:00,  1.38 Batches/s]\n",
      "Inferencing Samples: 100%|██████████| 1/1 [00:00<00:00,  1.47 Batches/s]\n",
      "Inferencing Samples: 100%|██████████| 1/1 [00:00<00:00,  1.40 Batches/s]\n",
      "Inferencing Samples: 100%|██████████| 1/1 [00:00<00:00,  1.34 Batches/s]\n",
      "Inferencing Samples: 100%|██████████| 1/1 [00:00<00:00,  1.47 Batches/s]\n",
      "Inferencing Samples: 100%|██████████| 1/1 [00:00<00:00,  1.21 Batches/s]\n",
      "Inferencing Samples: 100%|██████████| 1/1 [00:00<00:00,  1.46 Batches/s]\n",
      "Inferencing Samples: 100%|██████████| 1/1 [00:00<00:00,  1.37 Batches/s]\n",
      "Inferencing Samples: 100%|██████████| 1/1 [00:00<00:00,  1.35 Batches/s]\n"
     ],
     "output_type": "stream"
    }
   ],
   "source": [
    "# predict\n",
    "prediction = finder.get_answers(question=\"Who is the red witch?\", top_k_retriever=20, top_k_reader=10)"
   ]
  },
  {
   "cell_type": "code",
   "execution_count": 38,
   "metadata": {
    "pycharm": {
     "is_executing": false,
     "name": "#%%\n"
    }
   },
   "outputs": [
    {
     "name": "stdout",
     "text": [
      "{   'answers': [   {   'answer': 'Melisandre',\n",
      "                       'context': 'er Jon Snow would remain dead or return to '\n",
      "                                  'life. Fans speculated that Melisandre would '\n",
      "                                  'be the one to bring back Snow to life, '\n",
      "                                  'after and before the tit',\n",
      "                       'document_id': '-ixA4nMBreXvbNGuGruj',\n",
      "                       'meta': {'name': '69_The_Red_Woman.txt'},\n",
      "                       'offset_end': 80,\n",
      "                       'offset_end_in_doc': 1063,\n",
      "                       'offset_start': 70,\n",
      "                       'offset_start_in_doc': 1053,\n",
      "                       'probability': 0.5248341338350121,\n",
      "                       'score': 0.795346736907959},\n",
      "                   {   'answer': 'Melisandre',\n",
      "                       'context': 'er Jon Snow would remain dead or return to '\n",
      "                                  'life. Fans speculated that Melisandre would '\n",
      "                                  'be the one to bring back Snow to life, '\n",
      "                                  'after and before the tit',\n",
      "                       'document_id': '9Sxw4nMBreXvbNGulcZY',\n",
      "                       'meta': {'name': '69_The_Red_Woman.txt'},\n",
      "                       'offset_end': 80,\n",
      "                       'offset_end_in_doc': 1063,\n",
      "                       'offset_start': 70,\n",
      "                       'offset_start_in_doc': 1053,\n",
      "                       'probability': 0.5248341338350121,\n",
      "                       'score': 0.795346736907959},\n",
      "                   {   'answer': 'Melisandre',\n",
      "                       'context': 'er Jon Snow would remain dead or return to '\n",
      "                                  'life. Fans speculated that Melisandre would '\n",
      "                                  'be the one to bring back Snow to life, '\n",
      "                                  'after and before the tit',\n",
      "                       'document_id': 'EywL4nMBreXvbNGu6YWD',\n",
      "                       'meta': {'name': '69_The_Red_Woman.txt'},\n",
      "                       'offset_end': 80,\n",
      "                       'offset_end_in_doc': 1063,\n",
      "                       'offset_start': 70,\n",
      "                       'offset_start_in_doc': 1053,\n",
      "                       'probability': 0.5248341338350121,\n",
      "                       'score': 0.795346736907959},\n",
      "                   {   'answer': 'Melisandre',\n",
      "                       'context': 'er Jon Snow would remain dead or return to '\n",
      "                                  'life. Fans speculated that Melisandre would '\n",
      "                                  'be the one to bring back Snow to life, '\n",
      "                                  'after and before the tit',\n",
      "                       'document_id': 'Diwb4nMBreXvbNGu85DF',\n",
      "                       'meta': {'name': '69_The_Red_Woman.txt'},\n",
      "                       'offset_end': 80,\n",
      "                       'offset_end_in_doc': 1063,\n",
      "                       'offset_start': 70,\n",
      "                       'offset_start_in_doc': 1053,\n",
      "                       'probability': 0.5248341338350121,\n",
      "                       'score': 0.795346736907959},\n",
      "                   {   'answer': 'Melisandre',\n",
      "                       'context': 'er Jon Snow would remain dead or return to '\n",
      "                                  'life. Fans speculated that Melisandre would '\n",
      "                                  'be the one to bring back Snow to life, '\n",
      "                                  'after and before the tit',\n",
      "                       'document_id': '8Cx54nMBreXvbNGuw9Es',\n",
      "                       'meta': {'name': '69_The_Red_Woman.txt'},\n",
      "                       'offset_end': 80,\n",
      "                       'offset_end_in_doc': 1063,\n",
      "                       'offset_start': 70,\n",
      "                       'offset_start_in_doc': 1053,\n",
      "                       'probability': 0.5248341338350121,\n",
      "                       'score': 0.795346736907959},\n",
      "                   {   'answer': 'Melisandre',\n",
      "                       'context': 'er Jon Snow would remain dead or return to '\n",
      "                                  'life. Fans speculated that Melisandre would '\n",
      "                                  'be the one to bring back Snow to life, '\n",
      "                                  'after and before the tit',\n",
      "                       'document_id': '_yw_4nMBreXvbNGuNrAN',\n",
      "                       'meta': {'name': '69_The_Red_Woman.txt'},\n",
      "                       'offset_end': 80,\n",
      "                       'offset_end_in_doc': 1063,\n",
      "                       'offset_start': 70,\n",
      "                       'offset_start_in_doc': 1053,\n",
      "                       'probability': 0.5248341338350121,\n",
      "                       'score': 0.795346736907959},\n",
      "                   {   'answer': 'Melisandre',\n",
      "                       'context': 'er Jon Snow would remain dead or return to '\n",
      "                                  'life. Fans speculated that Melisandre would '\n",
      "                                  'be the one to bring back Snow to life, '\n",
      "                                  'after and before the tit',\n",
      "                       'document_id': 'BCw04nMBreXvbNGuCaZQ',\n",
      "                       'meta': {'name': '69_The_Red_Woman.txt'},\n",
      "                       'offset_end': 80,\n",
      "                       'offset_end_in_doc': 1063,\n",
      "                       'offset_start': 70,\n",
      "                       'offset_start_in_doc': 1053,\n",
      "                       'probability': 0.5248341338350121,\n",
      "                       'score': 0.795346736907959},\n",
      "                   {   'answer': 'Melisandre',\n",
      "                       'context': 'er Jon Snow would remain dead or return to '\n",
      "                                  'life. Fans speculated that Melisandre would '\n",
      "                                  'be the one to bring back Snow to life, '\n",
      "                                  'after and before the tit',\n",
      "                       'document_id': 'CSww4nMBreXvbNGuhJsa',\n",
      "                       'meta': {'name': '69_The_Red_Woman.txt'},\n",
      "                       'offset_end': 80,\n",
      "                       'offset_end_in_doc': 1063,\n",
      "                       'offset_start': 70,\n",
      "                       'offset_start_in_doc': 1053,\n",
      "                       'probability': 0.5248341338350121,\n",
      "                       'score': 0.795346736907959},\n",
      "                   {   'answer': 'Melisandre',\n",
      "                       'context': 'er Jon Snow would remain dead or return to '\n",
      "                                  'life. Fans speculated that Melisandre would '\n",
      "                                  'be the one to bring back Snow to life, '\n",
      "                                  'after and before the tit',\n",
      "                       'document_id': '9GIOG3QB7VlRhbqQXQDW',\n",
      "                       'meta': {'name': '69_The_Red_Woman.txt'},\n",
      "                       'offset_end': 80,\n",
      "                       'offset_end_in_doc': 1063,\n",
      "                       'offset_start': 70,\n",
      "                       'offset_start_in_doc': 1053,\n",
      "                       'probability': 0.5248341338350121,\n",
      "                       'score': 0.795346736907959},\n",
      "                   {   'answer': 'Melisandre',\n",
      "                       'context': 'er Jon Snow would remain dead or return to '\n",
      "                                  'life. Fans speculated that Melisandre would '\n",
      "                                  'be the one to bring back Snow to life, '\n",
      "                                  'after and before the tit',\n",
      "                       'document_id': '6ywy53MBreXvbNGuwtyZ',\n",
      "                       'meta': {'name': '69_The_Red_Woman.txt'},\n",
      "                       'offset_end': 80,\n",
      "                       'offset_end_in_doc': 1063,\n",
      "                       'offset_start': 70,\n",
      "                       'offset_start_in_doc': 1053,\n",
      "                       'probability': 0.5248341338350121,\n",
      "                       'score': 0.795346736907959}],\n",
      "    'no_ans_gap': -9.534895420074463,\n",
      "    'question': 'Who is the red witch?'}\n"
     ],
     "output_type": "stream"
    }
   ],
   "source": [
    "# print answers\n",
    "print_answers(prediction, details=\"all\")"
   ]
  },
  {
   "cell_type": "code",
   "execution_count": 39,
   "metadata": {
    "pycharm": {
     "is_executing": false,
     "name": "#%%\n"
    }
   },
   "outputs": [
    {
     "data": {
      "text/plain": "{'question': 'Who is the red witch?',\n 'no_ans_gap': -9.534895420074463,\n 'answers': [{'answer': 'Melisandre',\n   'score': 0.795346736907959,\n   'probability': 0.5248341338350121,\n   'context': 'er Jon Snow would remain dead or return to life. Fans speculated that Melisandre would be the one to bring back Snow to life, after and before the tit',\n   'offset_start': 70,\n   'offset_end': 80,\n   'offset_start_in_doc': 1053,\n   'offset_end_in_doc': 1063,\n   'document_id': '-ixA4nMBreXvbNGuGruj',\n   'meta': {'name': '69_The_Red_Woman.txt'}},\n  {'answer': 'Melisandre',\n   'score': 0.795346736907959,\n   'probability': 0.5248341338350121,\n   'context': 'er Jon Snow would remain dead or return to life. Fans speculated that Melisandre would be the one to bring back Snow to life, after and before the tit',\n   'offset_start': 70,\n   'offset_end': 80,\n   'offset_start_in_doc': 1053,\n   'offset_end_in_doc': 1063,\n   'document_id': '9Sxw4nMBreXvbNGulcZY',\n   'meta': {'name': '69_The_Red_Woman.txt'}},\n  {'answer': 'Melisandre',\n   'score': 0.795346736907959,\n   'probability': 0.5248341338350121,\n   'context': 'er Jon Snow would remain dead or return to life. Fans speculated that Melisandre would be the one to bring back Snow to life, after and before the tit',\n   'offset_start': 70,\n   'offset_end': 80,\n   'offset_start_in_doc': 1053,\n   'offset_end_in_doc': 1063,\n   'document_id': 'EywL4nMBreXvbNGu6YWD',\n   'meta': {'name': '69_The_Red_Woman.txt'}},\n  {'answer': 'Melisandre',\n   'score': 0.795346736907959,\n   'probability': 0.5248341338350121,\n   'context': 'er Jon Snow would remain dead or return to life. Fans speculated that Melisandre would be the one to bring back Snow to life, after and before the tit',\n   'offset_start': 70,\n   'offset_end': 80,\n   'offset_start_in_doc': 1053,\n   'offset_end_in_doc': 1063,\n   'document_id': 'Diwb4nMBreXvbNGu85DF',\n   'meta': {'name': '69_The_Red_Woman.txt'}},\n  {'answer': 'Melisandre',\n   'score': 0.795346736907959,\n   'probability': 0.5248341338350121,\n   'context': 'er Jon Snow would remain dead or return to life. Fans speculated that Melisandre would be the one to bring back Snow to life, after and before the tit',\n   'offset_start': 70,\n   'offset_end': 80,\n   'offset_start_in_doc': 1053,\n   'offset_end_in_doc': 1063,\n   'document_id': '8Cx54nMBreXvbNGuw9Es',\n   'meta': {'name': '69_The_Red_Woman.txt'}},\n  {'answer': 'Melisandre',\n   'score': 0.795346736907959,\n   'probability': 0.5248341338350121,\n   'context': 'er Jon Snow would remain dead or return to life. Fans speculated that Melisandre would be the one to bring back Snow to life, after and before the tit',\n   'offset_start': 70,\n   'offset_end': 80,\n   'offset_start_in_doc': 1053,\n   'offset_end_in_doc': 1063,\n   'document_id': '_yw_4nMBreXvbNGuNrAN',\n   'meta': {'name': '69_The_Red_Woman.txt'}},\n  {'answer': 'Melisandre',\n   'score': 0.795346736907959,\n   'probability': 0.5248341338350121,\n   'context': 'er Jon Snow would remain dead or return to life. Fans speculated that Melisandre would be the one to bring back Snow to life, after and before the tit',\n   'offset_start': 70,\n   'offset_end': 80,\n   'offset_start_in_doc': 1053,\n   'offset_end_in_doc': 1063,\n   'document_id': 'BCw04nMBreXvbNGuCaZQ',\n   'meta': {'name': '69_The_Red_Woman.txt'}},\n  {'answer': 'Melisandre',\n   'score': 0.795346736907959,\n   'probability': 0.5248341338350121,\n   'context': 'er Jon Snow would remain dead or return to life. Fans speculated that Melisandre would be the one to bring back Snow to life, after and before the tit',\n   'offset_start': 70,\n   'offset_end': 80,\n   'offset_start_in_doc': 1053,\n   'offset_end_in_doc': 1063,\n   'document_id': 'CSww4nMBreXvbNGuhJsa',\n   'meta': {'name': '69_The_Red_Woman.txt'}},\n  {'answer': 'Melisandre',\n   'score': 0.795346736907959,\n   'probability': 0.5248341338350121,\n   'context': 'er Jon Snow would remain dead or return to life. Fans speculated that Melisandre would be the one to bring back Snow to life, after and before the tit',\n   'offset_start': 70,\n   'offset_end': 80,\n   'offset_start_in_doc': 1053,\n   'offset_end_in_doc': 1063,\n   'document_id': '9GIOG3QB7VlRhbqQXQDW',\n   'meta': {'name': '69_The_Red_Woman.txt'}},\n  {'answer': 'Melisandre',\n   'score': 0.795346736907959,\n   'probability': 0.5248341338350121,\n   'context': 'er Jon Snow would remain dead or return to life. Fans speculated that Melisandre would be the one to bring back Snow to life, after and before the tit',\n   'offset_start': 70,\n   'offset_end': 80,\n   'offset_start_in_doc': 1053,\n   'offset_end_in_doc': 1063,\n   'document_id': '6ywy53MBreXvbNGuwtyZ',\n   'meta': {'name': '69_The_Red_Woman.txt'}}]}"
     },
     "metadata": {},
     "output_type": "execute_result",
     "execution_count": 39
    }
   ],
   "source": [
    "prediction\n",
    "\n",
    "\n"
   ]
  }
 ],
 "metadata": {
  "kernelspec": {
   "display_name": "predictive_kernel",
   "language": "python",
   "name": "predictive_kernel"
  },
  "language_info": {
   "codemirror_mode": {
    "name": "ipython",
    "version": 3
   },
   "file_extension": ".py",
   "mimetype": "text/x-python",
   "name": "python",
   "nbconvert_exporter": "python",
   "pygments_lexer": "ipython3",
   "version": "3.6.3"
  },
  "pycharm": {
   "stem_cell": {
    "cell_type": "raw",
    "source": [],
    "metadata": {
     "collapsed": false
    }
   }
  }
 },
 "nbformat": 4,
 "nbformat_minor": 1
}