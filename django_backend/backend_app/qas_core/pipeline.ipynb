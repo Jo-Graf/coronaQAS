{
 "cells": [
  {
   "cell_type": "code",
   "execution_count": 1,
   "metadata": {
    "pycharm": {
     "is_executing": false
    }
   },
   "outputs": [],
   "source": [
    "# Import\n",
    "from haystack.database.elasticsearch import ElasticsearchDocumentStore\n",
    "from backend_app.qas_core.got_data_loader import GOTDataLoader\n",
    "from haystack.retriever.sparse import ElasticsearchRetriever\n",
    "from haystack import Finder\n",
    "from haystack.indexing.cleaning import clean_wiki_text\n",
    "from haystack.indexing.utils import convert_files_to_dicts, fetch_archive_from_http\n",
    "from haystack.reader.farm import FARMReader\n",
    "from haystack.reader.transformers import TransformersReader\n",
    "from haystack.utils import print_answers"
   ]
  },
  {
   "cell_type": "code",
   "execution_count": 4,
   "metadata": {
    "pycharm": {
     "is_executing": false,
     "name": "#%%\n"
    }
   },
   "outputs": [
    {
     "name": "stderr",
     "text": [
      "08/23/2020 21:53:57 - INFO - elasticsearch -   PUT http://localhost:9200/document [status:400 request:0.128s]\n"
     ],
     "output_type": "stream"
    }
   ],
   "source": [
    "# Initialize\n",
    "document_store = ElasticsearchDocumentStore(host=\"localhost\", username=\"\", password=\"\", index=\"document\")\n",
    "data_loader = GOTDataLoader()"
   ]
  },
  {
   "cell_type": "code",
   "execution_count": 5,
   "metadata": {
    "pycharm": {
     "is_executing": false,
     "name": "#%% \n"
    }
   },
   "outputs": [
    {
     "name": "stderr",
     "text": [
      "08/23/2020 21:54:00 - INFO - haystack.indexing.utils -   Found data stored in `../data/article_txt_got`. Delete this first if you really want to fetch new data.\n"
     ],
     "output_type": "stream"
    },
    {
     "traceback": [
      "\u001b[0;31m---------------------------------------------------------------------------\u001b[0m",
      "\u001b[0;31mUnicodeDecodeError\u001b[0m                        Traceback (most recent call last)",
      "\u001b[0;32m<ipython-input-5-df1c3494a6d8>\u001b[0m in \u001b[0;36m<module>\u001b[0;34m\u001b[0m\n\u001b[1;32m      1\u001b[0m \u001b[0;31m# load data\u001b[0m\u001b[0;34m\u001b[0m\u001b[0;34m\u001b[0m\u001b[0m\n\u001b[1;32m      2\u001b[0m \u001b[0;32mif\u001b[0m \u001b[0mdata_loader\u001b[0m\u001b[0;34m.\u001b[0m\u001b[0mdata_is_loaded\u001b[0m\u001b[0;34m(\u001b[0m\u001b[0;34m)\u001b[0m \u001b[0;32mor\u001b[0m \u001b[0;32mTrue\u001b[0m\u001b[0;34m:\u001b[0m\u001b[0;34m\u001b[0m\u001b[0m\n\u001b[0;32m----> 3\u001b[0;31m     \u001b[0mdicts\u001b[0m \u001b[0;34m=\u001b[0m \u001b[0mdata_loader\u001b[0m\u001b[0;34m.\u001b[0m\u001b[0mload_data\u001b[0m\u001b[0;34m(\u001b[0m\u001b[0;34m)\u001b[0m\u001b[0;34m\u001b[0m\u001b[0m\n\u001b[0m\u001b[1;32m      4\u001b[0m     \u001b[0mdocument_store\u001b[0m\u001b[0;34m.\u001b[0m\u001b[0mwrite_documents\u001b[0m\u001b[0;34m(\u001b[0m\u001b[0mdicts\u001b[0m\u001b[0;34m)\u001b[0m\u001b[0;34m\u001b[0m\u001b[0m\n\u001b[1;32m      5\u001b[0m \u001b[0;34m\u001b[0m\u001b[0m\n",
      "\u001b[0;32m~/Belegarbeit/django_backend/backend_app/qas_core/got_data_loader.py\u001b[0m in \u001b[0;36mload_data\u001b[0;34m(self)\u001b[0m\n\u001b[1;32m     22\u001b[0m         \u001b[0;31m# You can optionally supply a cleaning function that is applied to each doc (e.g. to remove footers)\u001b[0m\u001b[0;34m\u001b[0m\u001b[0;34m\u001b[0m\u001b[0m\n\u001b[1;32m     23\u001b[0m         \u001b[0;31m# It must take a str as input, and return a str.\u001b[0m\u001b[0;34m\u001b[0m\u001b[0;34m\u001b[0m\u001b[0m\n\u001b[0;32m---> 24\u001b[0;31m         \u001b[0mdicts\u001b[0m \u001b[0;34m=\u001b[0m \u001b[0mconvert_files_to_dicts\u001b[0m\u001b[0;34m(\u001b[0m\u001b[0mdir_path\u001b[0m\u001b[0;34m=\u001b[0m\u001b[0mdoc_dir\u001b[0m\u001b[0;34m,\u001b[0m \u001b[0mclean_func\u001b[0m\u001b[0;34m=\u001b[0m\u001b[0mclean_wiki_text\u001b[0m\u001b[0;34m,\u001b[0m \u001b[0msplit_paragraphs\u001b[0m\u001b[0;34m=\u001b[0m\u001b[0;32mTrue\u001b[0m\u001b[0;34m)\u001b[0m\u001b[0;34m\u001b[0m\u001b[0m\n\u001b[0m\u001b[1;32m     25\u001b[0m \u001b[0;34m\u001b[0m\u001b[0m\n\u001b[1;32m     26\u001b[0m         \u001b[0;32mreturn\u001b[0m \u001b[0mdicts\u001b[0m\u001b[0;34m\u001b[0m\u001b[0m\n",
      "\u001b[0;32m~/PycharmProjects/python-virtual-environments/venv_3_6/lib/python3.6/site-packages/haystack/indexing/utils.py\u001b[0m in \u001b[0;36mconvert_files_to_dicts\u001b[0;34m(dir_path, clean_func, split_paragraphs)\u001b[0m\n\u001b[1;32m     35\u001b[0m         \u001b[0;32mif\u001b[0m \u001b[0mpath\u001b[0m\u001b[0;34m.\u001b[0m\u001b[0msuffix\u001b[0m\u001b[0;34m.\u001b[0m\u001b[0mlower\u001b[0m\u001b[0;34m(\u001b[0m\u001b[0;34m)\u001b[0m \u001b[0;34m==\u001b[0m \u001b[0;34m\".txt\"\u001b[0m\u001b[0;34m:\u001b[0m\u001b[0;34m\u001b[0m\u001b[0m\n\u001b[1;32m     36\u001b[0m             \u001b[0;32mwith\u001b[0m \u001b[0mopen\u001b[0m\u001b[0;34m(\u001b[0m\u001b[0mpath\u001b[0m\u001b[0;34m)\u001b[0m \u001b[0;32mas\u001b[0m \u001b[0mdoc\u001b[0m\u001b[0;34m:\u001b[0m\u001b[0;34m\u001b[0m\u001b[0m\n\u001b[0;32m---> 37\u001b[0;31m                 \u001b[0mtext\u001b[0m \u001b[0;34m=\u001b[0m \u001b[0mdoc\u001b[0m\u001b[0;34m.\u001b[0m\u001b[0mread\u001b[0m\u001b[0;34m(\u001b[0m\u001b[0;34m)\u001b[0m\u001b[0;34m\u001b[0m\u001b[0m\n\u001b[0m\u001b[1;32m     38\u001b[0m         \u001b[0;32melif\u001b[0m \u001b[0mpath\u001b[0m\u001b[0;34m.\u001b[0m\u001b[0msuffix\u001b[0m\u001b[0;34m.\u001b[0m\u001b[0mlower\u001b[0m\u001b[0;34m(\u001b[0m\u001b[0;34m)\u001b[0m \u001b[0;34m==\u001b[0m \u001b[0;34m\".pdf\"\u001b[0m \u001b[0;32mand\u001b[0m \u001b[0mpdf_converter\u001b[0m\u001b[0;34m:\u001b[0m\u001b[0;34m\u001b[0m\u001b[0m\n\u001b[1;32m     39\u001b[0m             \u001b[0mpages\u001b[0m \u001b[0;34m=\u001b[0m \u001b[0mpdf_converter\u001b[0m\u001b[0;34m.\u001b[0m\u001b[0mextract_pages\u001b[0m\u001b[0;34m(\u001b[0m\u001b[0mpath\u001b[0m\u001b[0;34m)\u001b[0m\u001b[0;34m\u001b[0m\u001b[0m\n",
      "\u001b[0;32m/Library/Frameworks/Python.framework/Versions/3.6/lib/python3.6/encodings/ascii.py\u001b[0m in \u001b[0;36mdecode\u001b[0;34m(self, input, final)\u001b[0m\n\u001b[1;32m     24\u001b[0m \u001b[0;32mclass\u001b[0m \u001b[0mIncrementalDecoder\u001b[0m\u001b[0;34m(\u001b[0m\u001b[0mcodecs\u001b[0m\u001b[0;34m.\u001b[0m\u001b[0mIncrementalDecoder\u001b[0m\u001b[0;34m)\u001b[0m\u001b[0;34m:\u001b[0m\u001b[0;34m\u001b[0m\u001b[0m\n\u001b[1;32m     25\u001b[0m     \u001b[0;32mdef\u001b[0m \u001b[0mdecode\u001b[0m\u001b[0;34m(\u001b[0m\u001b[0mself\u001b[0m\u001b[0;34m,\u001b[0m \u001b[0minput\u001b[0m\u001b[0;34m,\u001b[0m \u001b[0mfinal\u001b[0m\u001b[0;34m=\u001b[0m\u001b[0;32mFalse\u001b[0m\u001b[0;34m)\u001b[0m\u001b[0;34m:\u001b[0m\u001b[0;34m\u001b[0m\u001b[0m\n\u001b[0;32m---> 26\u001b[0;31m         \u001b[0;32mreturn\u001b[0m \u001b[0mcodecs\u001b[0m\u001b[0;34m.\u001b[0m\u001b[0mascii_decode\u001b[0m\u001b[0;34m(\u001b[0m\u001b[0minput\u001b[0m\u001b[0;34m,\u001b[0m \u001b[0mself\u001b[0m\u001b[0;34m.\u001b[0m\u001b[0merrors\u001b[0m\u001b[0;34m)\u001b[0m\u001b[0;34m[\u001b[0m\u001b[0;36m0\u001b[0m\u001b[0;34m]\u001b[0m\u001b[0;34m\u001b[0m\u001b[0m\n\u001b[0m\u001b[1;32m     27\u001b[0m \u001b[0;34m\u001b[0m\u001b[0m\n\u001b[1;32m     28\u001b[0m \u001b[0;32mclass\u001b[0m \u001b[0mStreamWriter\u001b[0m\u001b[0;34m(\u001b[0m\u001b[0mCodec\u001b[0m\u001b[0;34m,\u001b[0m\u001b[0mcodecs\u001b[0m\u001b[0;34m.\u001b[0m\u001b[0mStreamWriter\u001b[0m\u001b[0;34m)\u001b[0m\u001b[0;34m:\u001b[0m\u001b[0;34m\u001b[0m\u001b[0m\n",
      "\u001b[0;31mUnicodeDecodeError\u001b[0m: 'ascii' codec can't decode byte 0xc3 in position 29: ordinal not in range(128)"
     ],
     "ename": "UnicodeDecodeError",
     "evalue": "'ascii' codec can't decode byte 0xc3 in position 29: ordinal not in range(128)",
     "output_type": "error"
    }
   ],
   "source": [
    "# load data\n",
    "if data_loader.data_is_loaded() or True:\n",
    "    dicts = data_loader.load_data()\n",
    "    document_store.write_documents(dicts)"
   ]
  },
  {
   "cell_type": "code",
   "execution_count": 6,
   "metadata": {
    "pycharm": {
     "is_executing": false,
     "name": "#%%\n"
    }
   },
   "outputs": [],
   "source": [
    "# initialize retriever\n",
    "retriever = ElasticsearchRetriever(document_store=document_store)"
   ]
  },
  {
   "cell_type": "code",
   "execution_count": 7,
   "metadata": {
    "pycharm": {
     "is_executing": false,
     "name": "#%%\n"
    }
   },
   "outputs": [
    {
     "name": "stderr",
     "text": [
      "08/23/2020 21:54:08 - INFO - farm.utils -   device: cpu n_gpu: 0, distributed training: False, automatic mixed precision training: None\n",
      "08/23/2020 21:54:08 - INFO - farm.infer -   Could not find `deepset/roberta-base-squad2` locally. Try to download from model hub ...\n",
      "08/23/2020 21:54:14 - WARNING - farm.modeling.language_model -   Could not automatically detect from language model name what language it is. \n",
      "\t We guess it's an *ENGLISH* model ... \n",
      "\t If not: Init the language model by supplying the 'language' param.\n",
      "08/23/2020 21:54:20 - WARNING - farm.modeling.prediction_head -   Some unused parameters are passed to the QuestionAnsweringHead. Might not be a problem. Params: {\"loss_ignore_index\": -1}\n",
      "08/23/2020 21:54:24 - INFO - farm.utils -   device: cpu n_gpu: 0, distributed training: False, automatic mixed precision training: None\n",
      "08/23/2020 21:54:24 - INFO - farm.infer -   Got ya 7 parallel workers to do inference ...\n",
      "08/23/2020 21:54:24 - INFO - farm.infer -    0    0    0    0    0    0    0 \n",
      "08/23/2020 21:54:24 - INFO - farm.infer -   /w\\  /w\\  /w\\  /w\\  /w\\  /w\\  /w\\\n",
      "08/23/2020 21:54:24 - INFO - farm.infer -   /'\\  / \\  /'\\  /'\\  / \\  / \\  /'\\\n",
      "08/23/2020 21:54:24 - INFO - farm.infer -               \n"
     ],
     "output_type": "stream"
    }
   ],
   "source": [
    "# initialize reader\n",
    "reader = FARMReader(model_name_or_path=\"deepset/roberta-base-squad2\", use_gpu=False)"
   ]
  },
  {
   "cell_type": "code",
   "execution_count": 8,
   "metadata": {
    "pycharm": {
     "is_executing": false,
     "name": "#%%\n"
    }
   },
   "outputs": [],
   "source": [
    "# initialize finder\n",
    "finder = Finder(reader, retriever)"
   ]
  },
  {
   "cell_type": "code",
   "execution_count": 15,
   "metadata": {
    "pycharm": {
     "is_executing": false,
     "name": "#%%\n"
    }
   },
   "outputs": [
    {
     "name": "stderr",
     "text": [
      "08/23/2020 21:59:53 - INFO - elasticsearch -   POST http://localhost:9200/document/_search [status:200 request:0.078s]\n",
      "08/23/2020 21:59:53 - INFO - haystack.retriever.sparse -   Got 20 candidates from retriever\n",
      "08/23/2020 21:59:53 - INFO - haystack.finder -   Reader is looking for detailed answer in 37788 chars ...\n",
      "Inferencing Samples: 100%|██████████| 1/1 [00:02<00:00,  2.86s/ Batches]\n",
      "Inferencing Samples: 100%|██████████| 1/1 [00:01<00:00,  1.46s/ Batches]\n",
      "Inferencing Samples: 100%|██████████| 1/1 [00:01<00:00,  1.53s/ Batches]\n",
      "Inferencing Samples: 100%|██████████| 1/1 [00:01<00:00,  1.41s/ Batches]\n",
      "Inferencing Samples: 100%|██████████| 1/1 [00:01<00:00,  1.37s/ Batches]\n",
      "Inferencing Samples: 100%|██████████| 1/1 [00:01<00:00,  1.20s/ Batches]\n",
      "Inferencing Samples: 100%|██████████| 1/1 [00:01<00:00,  1.25s/ Batches]\n",
      "Inferencing Samples: 100%|██████████| 1/1 [00:01<00:00,  1.23s/ Batches]\n",
      "Inferencing Samples: 100%|██████████| 1/1 [00:01<00:00,  1.19s/ Batches]\n",
      "Inferencing Samples: 100%|██████████| 1/1 [00:01<00:00,  1.25s/ Batches]\n",
      "Inferencing Samples: 100%|██████████| 1/1 [00:01<00:00,  1.47s/ Batches]\n",
      "Inferencing Samples: 100%|██████████| 1/1 [00:00<00:00,  1.31 Batches/s]\n",
      "Inferencing Samples: 100%|██████████| 1/1 [00:00<00:00,  1.42 Batches/s]\n",
      "Inferencing Samples: 100%|██████████| 1/1 [00:00<00:00,  1.46 Batches/s]\n",
      "Inferencing Samples: 100%|██████████| 1/1 [00:00<00:00,  1.46 Batches/s]\n",
      "Inferencing Samples: 100%|██████████| 1/1 [00:00<00:00,  1.33 Batches/s]\n",
      "Inferencing Samples: 100%|██████████| 1/1 [00:00<00:00,  1.27 Batches/s]\n",
      "Inferencing Samples: 100%|██████████| 1/1 [00:00<00:00,  1.42 Batches/s]\n",
      "Inferencing Samples: 100%|██████████| 1/1 [00:00<00:00,  1.50 Batches/s]\n",
      "Inferencing Samples: 100%|██████████| 1/1 [00:00<00:00,  1.33 Batches/s]\n"
     ],
     "output_type": "stream"
    }
   ],
   "source": [
    "# predict\n",
    "prediction = finder.get_answers(question=\"Who is the red witch?\", top_k_retriever=20, top_k_reader=10)"
   ]
  },
  {
   "cell_type": "code",
   "execution_count": 16,
   "metadata": {
    "pycharm": {
     "is_executing": false,
     "name": "#%%\n"
    }
   },
   "outputs": [
    {
     "name": "stdout",
     "text": [
      "{   'answers': [   {   'answer': 'Melisandre',\n",
      "                       'context': 'er Jon Snow would remain dead or return to '\n",
      "                                  'life. Fans speculated that Melisandre would '\n",
      "                                  'be the one to bring back Snow to life, '\n",
      "                                  'after and before the tit',\n",
      "                       'document_id': '-ixA4nMBreXvbNGuGruj',\n",
      "                       'meta': {'name': '69_The_Red_Woman.txt'},\n",
      "                       'offset_end': 80,\n",
      "                       'offset_end_in_doc': 1063,\n",
      "                       'offset_start': 70,\n",
      "                       'offset_start_in_doc': 1053,\n",
      "                       'probability': 0.5248341338350121,\n",
      "                       'score': 0.795346736907959},\n",
      "                   {   'answer': 'Melisandre',\n",
      "                       'context': 'er Jon Snow would remain dead or return to '\n",
      "                                  'life. Fans speculated that Melisandre would '\n",
      "                                  'be the one to bring back Snow to life, '\n",
      "                                  'after and before the tit',\n",
      "                       'document_id': '9Sxw4nMBreXvbNGulcZY',\n",
      "                       'meta': {'name': '69_The_Red_Woman.txt'},\n",
      "                       'offset_end': 80,\n",
      "                       'offset_end_in_doc': 1063,\n",
      "                       'offset_start': 70,\n",
      "                       'offset_start_in_doc': 1053,\n",
      "                       'probability': 0.5248341338350121,\n",
      "                       'score': 0.795346736907959},\n",
      "                   {   'answer': 'Melisandre',\n",
      "                       'context': 'er Jon Snow would remain dead or return to '\n",
      "                                  'life. Fans speculated that Melisandre would '\n",
      "                                  'be the one to bring back Snow to life, '\n",
      "                                  'after and before the tit',\n",
      "                       'document_id': 'EywL4nMBreXvbNGu6YWD',\n",
      "                       'meta': {'name': '69_The_Red_Woman.txt'},\n",
      "                       'offset_end': 80,\n",
      "                       'offset_end_in_doc': 1063,\n",
      "                       'offset_start': 70,\n",
      "                       'offset_start_in_doc': 1053,\n",
      "                       'probability': 0.5248341338350121,\n",
      "                       'score': 0.795346736907959},\n",
      "                   {   'answer': 'Melisandre',\n",
      "                       'context': 'er Jon Snow would remain dead or return to '\n",
      "                                  'life. Fans speculated that Melisandre would '\n",
      "                                  'be the one to bring back Snow to life, '\n",
      "                                  'after and before the tit',\n",
      "                       'document_id': 'Diwb4nMBreXvbNGu85DF',\n",
      "                       'meta': {'name': '69_The_Red_Woman.txt'},\n",
      "                       'offset_end': 80,\n",
      "                       'offset_end_in_doc': 1063,\n",
      "                       'offset_start': 70,\n",
      "                       'offset_start_in_doc': 1053,\n",
      "                       'probability': 0.5248341338350121,\n",
      "                       'score': 0.795346736907959},\n",
      "                   {   'answer': 'Melisandre',\n",
      "                       'context': 'er Jon Snow would remain dead or return to '\n",
      "                                  'life. Fans speculated that Melisandre would '\n",
      "                                  'be the one to bring back Snow to life, '\n",
      "                                  'after and before the tit',\n",
      "                       'document_id': '8Cx54nMBreXvbNGuw9Es',\n",
      "                       'meta': {'name': '69_The_Red_Woman.txt'},\n",
      "                       'offset_end': 80,\n",
      "                       'offset_end_in_doc': 1063,\n",
      "                       'offset_start': 70,\n",
      "                       'offset_start_in_doc': 1053,\n",
      "                       'probability': 0.5248341338350121,\n",
      "                       'score': 0.795346736907959},\n",
      "                   {   'answer': 'Melisandre',\n",
      "                       'context': 'er Jon Snow would remain dead or return to '\n",
      "                                  'life. Fans speculated that Melisandre would '\n",
      "                                  'be the one to bring back Snow to life, '\n",
      "                                  'after and before the tit',\n",
      "                       'document_id': '_yw_4nMBreXvbNGuNrAN',\n",
      "                       'meta': {'name': '69_The_Red_Woman.txt'},\n",
      "                       'offset_end': 80,\n",
      "                       'offset_end_in_doc': 1063,\n",
      "                       'offset_start': 70,\n",
      "                       'offset_start_in_doc': 1053,\n",
      "                       'probability': 0.5248341338350121,\n",
      "                       'score': 0.795346736907959},\n",
      "                   {   'answer': 'Melisandre',\n",
      "                       'context': 'er Jon Snow would remain dead or return to '\n",
      "                                  'life. Fans speculated that Melisandre would '\n",
      "                                  'be the one to bring back Snow to life, '\n",
      "                                  'after and before the tit',\n",
      "                       'document_id': 'BCw04nMBreXvbNGuCaZQ',\n",
      "                       'meta': {'name': '69_The_Red_Woman.txt'},\n",
      "                       'offset_end': 80,\n",
      "                       'offset_end_in_doc': 1063,\n",
      "                       'offset_start': 70,\n",
      "                       'offset_start_in_doc': 1053,\n",
      "                       'probability': 0.5248341338350121,\n",
      "                       'score': 0.795346736907959},\n",
      "                   {   'answer': 'Melisandre',\n",
      "                       'context': 'er Jon Snow would remain dead or return to '\n",
      "                                  'life. Fans speculated that Melisandre would '\n",
      "                                  'be the one to bring back Snow to life, '\n",
      "                                  'after and before the tit',\n",
      "                       'document_id': 'CSww4nMBreXvbNGuhJsa',\n",
      "                       'meta': {'name': '69_The_Red_Woman.txt'},\n",
      "                       'offset_end': 80,\n",
      "                       'offset_end_in_doc': 1063,\n",
      "                       'offset_start': 70,\n",
      "                       'offset_start_in_doc': 1053,\n",
      "                       'probability': 0.5248341338350121,\n",
      "                       'score': 0.795346736907959},\n",
      "                   {   'answer': 'Melisandre',\n",
      "                       'context': 'er Jon Snow would remain dead or return to '\n",
      "                                  'life. Fans speculated that Melisandre would '\n",
      "                                  'be the one to bring back Snow to life, '\n",
      "                                  'after and before the tit',\n",
      "                       'document_id': '9GIOG3QB7VlRhbqQXQDW',\n",
      "                       'meta': {'name': '69_The_Red_Woman.txt'},\n",
      "                       'offset_end': 80,\n",
      "                       'offset_end_in_doc': 1063,\n",
      "                       'offset_start': 70,\n",
      "                       'offset_start_in_doc': 1053,\n",
      "                       'probability': 0.5248341338350121,\n",
      "                       'score': 0.795346736907959},\n",
      "                   {   'answer': 'Melisandre',\n",
      "                       'context': 'er Jon Snow would remain dead or return to '\n",
      "                                  'life. Fans speculated that Melisandre would '\n",
      "                                  'be the one to bring back Snow to life, '\n",
      "                                  'after and before the tit',\n",
      "                       'document_id': '6ywy53MBreXvbNGuwtyZ',\n",
      "                       'meta': {'name': '69_The_Red_Woman.txt'},\n",
      "                       'offset_end': 80,\n",
      "                       'offset_end_in_doc': 1063,\n",
      "                       'offset_start': 70,\n",
      "                       'offset_start_in_doc': 1053,\n",
      "                       'probability': 0.5248341338350121,\n",
      "                       'score': 0.795346736907959}],\n",
      "    'no_ans_gap': -9.534895420074463,\n",
      "    'question': 'Who is the red witch?'}\n"
     ],
     "output_type": "stream"
    }
   ],
   "source": [
    "# print answers\n",
    "print_answers(prediction, details=\"all\")"
   ]
  },
  {
   "cell_type": "code",
   "execution_count": 17,
   "metadata": {
    "pycharm": {
     "is_executing": false,
     "name": "#%%\n"
    }
   },
   "outputs": [
    {
     "data": {
      "text/plain": "{'question': 'Who is the red witch?',\n 'no_ans_gap': -9.534895420074463,\n 'answers': [{'answer': 'Melisandre',\n   'score': 0.795346736907959,\n   'probability': 0.5248341338350121,\n   'context': 'er Jon Snow would remain dead or return to life. Fans speculated that Melisandre would be the one to bring back Snow to life, after and before the tit',\n   'offset_start': 70,\n   'offset_end': 80,\n   'offset_start_in_doc': 1053,\n   'offset_end_in_doc': 1063,\n   'document_id': '-ixA4nMBreXvbNGuGruj',\n   'meta': {'name': '69_The_Red_Woman.txt'}},\n  {'answer': 'Melisandre',\n   'score': 0.795346736907959,\n   'probability': 0.5248341338350121,\n   'context': 'er Jon Snow would remain dead or return to life. Fans speculated that Melisandre would be the one to bring back Snow to life, after and before the tit',\n   'offset_start': 70,\n   'offset_end': 80,\n   'offset_start_in_doc': 1053,\n   'offset_end_in_doc': 1063,\n   'document_id': '9Sxw4nMBreXvbNGulcZY',\n   'meta': {'name': '69_The_Red_Woman.txt'}},\n  {'answer': 'Melisandre',\n   'score': 0.795346736907959,\n   'probability': 0.5248341338350121,\n   'context': 'er Jon Snow would remain dead or return to life. Fans speculated that Melisandre would be the one to bring back Snow to life, after and before the tit',\n   'offset_start': 70,\n   'offset_end': 80,\n   'offset_start_in_doc': 1053,\n   'offset_end_in_doc': 1063,\n   'document_id': 'EywL4nMBreXvbNGu6YWD',\n   'meta': {'name': '69_The_Red_Woman.txt'}},\n  {'answer': 'Melisandre',\n   'score': 0.795346736907959,\n   'probability': 0.5248341338350121,\n   'context': 'er Jon Snow would remain dead or return to life. Fans speculated that Melisandre would be the one to bring back Snow to life, after and before the tit',\n   'offset_start': 70,\n   'offset_end': 80,\n   'offset_start_in_doc': 1053,\n   'offset_end_in_doc': 1063,\n   'document_id': 'Diwb4nMBreXvbNGu85DF',\n   'meta': {'name': '69_The_Red_Woman.txt'}},\n  {'answer': 'Melisandre',\n   'score': 0.795346736907959,\n   'probability': 0.5248341338350121,\n   'context': 'er Jon Snow would remain dead or return to life. Fans speculated that Melisandre would be the one to bring back Snow to life, after and before the tit',\n   'offset_start': 70,\n   'offset_end': 80,\n   'offset_start_in_doc': 1053,\n   'offset_end_in_doc': 1063,\n   'document_id': '8Cx54nMBreXvbNGuw9Es',\n   'meta': {'name': '69_The_Red_Woman.txt'}},\n  {'answer': 'Melisandre',\n   'score': 0.795346736907959,\n   'probability': 0.5248341338350121,\n   'context': 'er Jon Snow would remain dead or return to life. Fans speculated that Melisandre would be the one to bring back Snow to life, after and before the tit',\n   'offset_start': 70,\n   'offset_end': 80,\n   'offset_start_in_doc': 1053,\n   'offset_end_in_doc': 1063,\n   'document_id': '_yw_4nMBreXvbNGuNrAN',\n   'meta': {'name': '69_The_Red_Woman.txt'}},\n  {'answer': 'Melisandre',\n   'score': 0.795346736907959,\n   'probability': 0.5248341338350121,\n   'context': 'er Jon Snow would remain dead or return to life. Fans speculated that Melisandre would be the one to bring back Snow to life, after and before the tit',\n   'offset_start': 70,\n   'offset_end': 80,\n   'offset_start_in_doc': 1053,\n   'offset_end_in_doc': 1063,\n   'document_id': 'BCw04nMBreXvbNGuCaZQ',\n   'meta': {'name': '69_The_Red_Woman.txt'}},\n  {'answer': 'Melisandre',\n   'score': 0.795346736907959,\n   'probability': 0.5248341338350121,\n   'context': 'er Jon Snow would remain dead or return to life. Fans speculated that Melisandre would be the one to bring back Snow to life, after and before the tit',\n   'offset_start': 70,\n   'offset_end': 80,\n   'offset_start_in_doc': 1053,\n   'offset_end_in_doc': 1063,\n   'document_id': 'CSww4nMBreXvbNGuhJsa',\n   'meta': {'name': '69_The_Red_Woman.txt'}},\n  {'answer': 'Melisandre',\n   'score': 0.795346736907959,\n   'probability': 0.5248341338350121,\n   'context': 'er Jon Snow would remain dead or return to life. Fans speculated that Melisandre would be the one to bring back Snow to life, after and before the tit',\n   'offset_start': 70,\n   'offset_end': 80,\n   'offset_start_in_doc': 1053,\n   'offset_end_in_doc': 1063,\n   'document_id': '9GIOG3QB7VlRhbqQXQDW',\n   'meta': {'name': '69_The_Red_Woman.txt'}},\n  {'answer': 'Melisandre',\n   'score': 0.795346736907959,\n   'probability': 0.5248341338350121,\n   'context': 'er Jon Snow would remain dead or return to life. Fans speculated that Melisandre would be the one to bring back Snow to life, after and before the tit',\n   'offset_start': 70,\n   'offset_end': 80,\n   'offset_start_in_doc': 1053,\n   'offset_end_in_doc': 1063,\n   'document_id': '6ywy53MBreXvbNGuwtyZ',\n   'meta': {'name': '69_The_Red_Woman.txt'}}]}"
     },
     "metadata": {},
     "output_type": "execute_result",
     "execution_count": 17
    }
   ],
   "source": [
    "prediction"
   ]
  },
  {
   "cell_type": "code",
   "execution_count": null,
   "outputs": [],
   "source": [],
   "metadata": {
    "collapsed": false,
    "pycharm": {
     "name": "#%%\n"
    }
   }
  },
  {
   "cell_type": "code",
   "execution_count": null,
   "metadata": {},
   "outputs": [],
   "source": []
  }
 ],
 "metadata": {
  "kernelspec": {
   "display_name": "predictive_kernel",
   "language": "python",
   "name": "predictive_kernel"
  },
  "language_info": {
   "codemirror_mode": {
    "name": "ipython",
    "version": 3
   },
   "file_extension": ".py",
   "mimetype": "text/x-python",
   "name": "python",
   "nbconvert_exporter": "python",
   "pygments_lexer": "ipython3",
   "version": "3.6.3"
  },
  "pycharm": {
   "stem_cell": {
    "cell_type": "raw",
    "source": [],
    "metadata": {
     "collapsed": false
    }
   }
  }
 },
 "nbformat": 4,
 "nbformat_minor": 1
}